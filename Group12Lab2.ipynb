{
  "nbformat": 4,
  "nbformat_minor": 0,
  "metadata": {
    "colab": {
      "provenance": []
    },
    "kernelspec": {
      "name": "python3",
      "display_name": "Python 3"
    },
    "language_info": {
      "name": "python"
    }
  },
  "cells": [
    {
      "cell_type": "markdown",
      "source": [
        "#Lab 2: Probability Calculation for Red Dragon Inn"
      ],
      "metadata": {
        "id": "bogXjgf5uwOL"
      }
    },
    {
      "cell_type": "code",
      "source": [
        "import itertools\n",
        "import pandas as pd\n",
        "import numpy as np"
      ],
      "metadata": {
        "id": "RSWat-04wUjU"
      },
      "execution_count": 2,
      "outputs": []
    },
    {
      "cell_type": "markdown",
      "source": [
        "**Part A: Sum of dice greater than x**"
      ],
      "metadata": {
        "id": "rZaAkn-dux2R"
      }
    },
    {
      "cell_type": "code",
      "source": [
        "def rollOptions(m: int, n: int):\n",
        "  if m < 1 or m > 4 or n < 1 or n > 20: return []\n",
        "  return list(itertools.product(range(1, n+1), repeat=m))\n",
        "\n",
        "# chance of rolling mdn > x\n",
        "# note: in the example code, he used >=, but in the instructions it said >\n",
        "def rollDice(m: int, n: int, x: int):\n",
        "  sums = np.array([sum(roll) for roll in rollOptions(m,n)])\n",
        "  return np.mean(sums > x)\n",
        "\n",
        "# print(rollDice(3, 6, 5))"
      ],
      "metadata": {
        "id": "qPsSi0jnyCG6"
      },
      "execution_count": 3,
      "outputs": []
    },
    {
      "cell_type": "markdown",
      "source": [
        "**Part B: At least one die greater than or equal to x**"
      ],
      "metadata": {
        "id": "mF5CUQUgx4mt"
      }
    },
    {
      "cell_type": "code",
      "source": [
        "# chance of rolling at least one die >= x\n",
        "def rollAtLeastOne(m: int, n: int, x: int):\n",
        "  rolls = rollOptions(m, n)\n",
        "  return np.mean([any(die >= x for die in roll) for roll in rolls])\n",
        "\n",
        "# rollAtLeastOne(3, 6, 5)"
      ],
      "metadata": {
        "id": "PDKNjX0ayoUu"
      },
      "execution_count": 4,
      "outputs": []
    },
    {
      "cell_type": "markdown",
      "source": [
        "**Tool Performace Evaluation**"
      ],
      "metadata": {
        "id": "RRQP21FZyo7s"
      }
    },
    {
      "cell_type": "markdown",
      "source": [
        "Roll 1d20 and get a result of 17 or more"
      ],
      "metadata": {
        "id": "R8sATdI0yyFY"
      }
    },
    {
      "cell_type": "code",
      "source": [
        "rollDice(1, 20, 16)"
      ],
      "metadata": {
        "id": "JIzfCj4hyBmm",
        "colab": {
          "base_uri": "https://localhost:8080/"
        },
        "outputId": "6fc87387-aade-4d92-9d2e-4bf0e3e837e8"
      },
      "execution_count": 5,
      "outputs": [
        {
          "output_type": "execute_result",
          "data": {
            "text/plain": [
              "0.2"
            ]
          },
          "metadata": {},
          "execution_count": 5
        }
      ]
    },
    {
      "cell_type": "markdown",
      "source": [
        "Roll 3d4 and get a result of 10 or more"
      ],
      "metadata": {
        "id": "99RiRXbpyxqU"
      }
    },
    {
      "cell_type": "code",
      "source": [
        "rollDice(3, 4, 9)"
      ],
      "metadata": {
        "id": "oRD82pHOywRa",
        "colab": {
          "base_uri": "https://localhost:8080/"
        },
        "outputId": "8c8fcb04-a64d-4fef-a362-37058fd85868"
      },
      "execution_count": 6,
      "outputs": [
        {
          "output_type": "execute_result",
          "data": {
            "text/plain": [
              "0.15625"
            ]
          },
          "metadata": {},
          "execution_count": 6
        }
      ]
    },
    {
      "cell_type": "markdown",
      "source": [
        "Roll 4d6 and have at least one dice show a 6"
      ],
      "metadata": {
        "id": "KhoyvlZuy0vN"
      }
    },
    {
      "cell_type": "code",
      "source": [
        "rollAtLeastOne(4, 6, 6)"
      ],
      "metadata": {
        "id": "DRKylpheyxFW",
        "colab": {
          "base_uri": "https://localhost:8080/"
        },
        "outputId": "54761787-8f3e-49ae-d3b3-e9320ea21d66"
      },
      "execution_count": 9,
      "outputs": [
        {
          "output_type": "execute_result",
          "data": {
            "text/plain": [
              "0.5177469135802469"
            ]
          },
          "metadata": {},
          "execution_count": 9
        }
      ]
    },
    {
      "cell_type": "markdown",
      "source": [
        "**Summary of probabilities found & best choice**"
      ],
      "metadata": {
        "id": "fPW-AobTyx7n"
      }
    },
    {
      "cell_type": "markdown",
      "source": [
        "The probabilites of successful completing the three challenges presented to the player are as follows:\n",
        "\n",
        "\n",
        "Roll 1d20 and get a result of 17 or more:  **0.2**\n",
        "\n",
        "\n",
        "Roll 3d4 and get a result of 10 or more: **0.156**\n",
        "\n",
        "\n",
        "Roll 4d6 and have at least one dice show a 6:  **0.518**\n",
        "\n",
        "Given these probabilites, the best choice for the player is the third challenge: Roll 4d6 and have at least one dice show a 6. The player has the best chance of successfully completing this challenge."
      ],
      "metadata": {
        "id": "tMeHS7Ap0Z7T"
      }
    }
  ]
}